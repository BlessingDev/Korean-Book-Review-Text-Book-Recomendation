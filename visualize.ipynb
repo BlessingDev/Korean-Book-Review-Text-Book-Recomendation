{
 "cells": [
  {
   "cell_type": "code",
   "execution_count": 1,
   "metadata": {},
   "outputs": [],
   "source": [
    "%matplotlib inline\n",
    "\n",
    "import pandas as pd\n",
    "import numpy as np\n",
    "\n",
    "import seaborn as sns\n",
    "import matplotlib.pylab as plt\n",
    "import matplotlib\n",
    "import matplotlib.font_manager as fm\n",
    "\n",
    "import scipy.sparse\n",
    "\n",
    "try:\n",
    "    font_location = \"HANDotum.ttf\"\n",
    "    font_name = fm.FontProperties(fname = font_location).get_name()\n",
    "    matplotlib.rc('font', family=font_name)\n",
    "except:\n",
    "    print(\"폰트 임포트 에러\")"
   ]
  },
  {
   "cell_type": "code",
   "execution_count": null,
   "metadata": {},
   "outputs": [],
   "source": [
    "plt.figure(figsize=(8, 6), dpi=100)\n",
    "\n",
    "plt.subplot(111)\n",
    "\n",
    "X = np.linspace(0, 4, 5)\n",
    "acc_d3 = [0.5958, 0.5976, 0.5984, 0.5988, 0.6]\n",
    "acc_d5 = [0.6022, 0.6040, 0.6045, 0.6055, 0.6061]\n",
    "acc_d10 = [0.6010, 0.6054, 0.6068, 0.6077, 0.6082]\n",
    "acc_d15 = [0.5890, 0.5966, 0.6005, 0.6036, 0.6059]\n",
    "acc_d20 = [0.5754, 0.5866, 0.5916, 0.5959, 0.5997]\n",
    "\n",
    "plt.plot(X, acc_d3, label=\"D=3\", ls='-')\n",
    "plt.plot(X, acc_d5, label=\"D=5\", ls='-')\n",
    "plt.plot(X, acc_d10, label=\"D=10\", ls='-')\n",
    "plt.plot(X, acc_d15, label=\"D=15\", ls='-')\n",
    "plt.plot(X, acc_d20, label=\"D=20\", ls='-')\n",
    "\n",
    "plt.title(\"T의 증가에 따른 모델의 정확도 증가\")\n",
    "plt.legend()\n",
    "plt.ylabel(\"정확도\")\n",
    "plt.xlabel(\"모델\")\n",
    "plt.xticks([0, 1, 2, 3, 4],\n",
    "       ['T=10', 'T=20', 'T=30', 'T=50', 'T=100'])\n",
    "plt.grid(True)\n",
    "plt.xlim([0, 4])\n",
    "\n",
    "plt.show()"
   ]
  }
 ],
 "metadata": {
  "kernelspec": {
   "display_name": "Python 3",
   "language": "python",
   "name": "python3"
  },
  "language_info": {
   "codemirror_mode": {
    "name": "ipython",
    "version": 3
   },
   "file_extension": ".py",
   "mimetype": "text/x-python",
   "name": "python",
   "nbconvert_exporter": "python",
   "pygments_lexer": "ipython3",
   "version": "3.6.6"
  }
 },
 "nbformat": 4,
 "nbformat_minor": 4
}
